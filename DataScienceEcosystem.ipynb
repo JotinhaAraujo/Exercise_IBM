{
 "cells": [
  {
   "cell_type": "markdown",
   "id": "1c150287-20c3-48cb-bbfa-ba7e1011802c",
   "metadata": {
    "panel-layout": {
     "height": 94.875,
     "visible": true,
     "width": 100
    }
   },
   "source": [
    "# Data Science Tools and Ecosystem"
   ]
  },
  {
   "attachments": {},
   "cell_type": "markdown",
   "id": "993dc5f2-1868-4ca6-b745-6fcff0274f4d",
   "metadata": {
    "panel-layout": {
     "height": 51.1406,
     "visible": true,
     "width": 100
    }
   },
   "source": [
    "![screenshot_1](Capturar1.PNG)"
   ]
  },
  {
   "cell_type": "markdown",
   "id": "18290eb6-d31c-4e91-88c5-dca92ca3bcb0",
   "metadata": {
    "panel-layout": {
     "height": 300.5625,
     "visible": true,
     "width": 100
    }
   },
   "source": [
    "# In this notebook, Data Science Tools and Ecosystem are summarized."
   ]
  },
  {
   "cell_type": "markdown",
   "id": "7e5f06b7-a8e2-4ab7-b74e-db6b57c5299a",
   "metadata": {
    "panel-layout": {
     "height": 51.140625,
     "visible": true,
     "width": 100
    }
   },
   "source": [
    "![Screenshot_2](Capturar2.PNG)"
   ]
  },
  {
   "cell_type": "markdown",
   "id": "e7e9eb0b-c5eb-4313-aa36-cb54754135b5",
   "metadata": {
    "panel-layout": {
     "height": 232,
     "visible": true,
     "width": 100
    }
   },
   "source": [
    "# Some of the popular languages that Data Scientists use are:"
   ]
  },
  {
   "cell_type": "markdown",
   "id": "59a0753f-26a8-4eb7-9428-0afdafef0099",
   "metadata": {
    "panel-layout": {
     "height": 85.42181396484375,
     "visible": true,
     "width": 100
    }
   },
   "source": [
    "1: Python\n",
    "2: R\n",
    "3: Julia"
   ]
  },
  {
   "cell_type": "markdown",
   "id": "215e3d09-542a-420c-93a4-1948b232ac5a",
   "metadata": {
    "panel-layout": {
     "height": 51.140625,
     "visible": true,
     "width": 100
    }
   },
   "source": [
    "![Screenshot3](Capturar3.PNG)"
   ]
  },
  {
   "cell_type": "markdown",
   "id": "45f3bd99-da7f-496d-8733-b95361436de6",
   "metadata": {},
   "source": [
    "# Some of the commonly used libraries used by Data Scientists include:"
   ]
  },
  {
   "cell_type": "markdown",
   "id": "f473e029-363f-4dac-8886-075199040aa2",
   "metadata": {},
   "source": [
    "1: Pandas\n",
    "2: numpy\n",
    "3: scikit-learn"
   ]
  },
  {
   "cell_type": "markdown",
   "id": "098e9a22-10e2-43ee-b771-2a3c76c52cdc",
   "metadata": {},
   "source": [
    "![Screenshot4](Capturar4.PNG)"
   ]
  },
  {
   "cell_type": "markdown",
   "id": "1728093f-c9aa-4690-a5ea-a620c3624e07",
   "metadata": {},
   "source": [
    "# Data Science Tools"
   ]
  },
  {
   "cell_type": "markdown",
   "id": "a728d23e-8f36-4545-8283-56648baed10a",
   "metadata": {},
   "source": [
    "1: Jupyter Notebooks\n",
    "2: RStudio\n",
    "3: Apache Spark"
   ]
  },
  {
   "cell_type": "markdown",
   "id": "67af4efe-a238-423b-b40e-7c8661a2d8ba",
   "metadata": {},
   "source": [
    "![ScreenShot5](Capturar5.PNG)"
   ]
  },
  {
   "cell_type": "markdown",
   "id": "2e3aa7d4-6afb-4934-aee4-fc943e850c8e",
   "metadata": {},
   "source": [
    "# Below are a few examples of evaluating arithmetic expressions in Python"
   ]
  },
  {
   "cell_type": "code",
   "execution_count": 19,
   "id": "ba227e6a-35da-4916-9bfa-941a78053209",
   "metadata": {},
   "outputs": [],
   "source": [
    "### x = 5\n",
    "### y = 10\n",
    "### z = y - x\n",
    "### print(z) == 5"
   ]
  },
  {
   "cell_type": "code",
   "execution_count": 20,
   "id": "086d3376-80e0-40d1-8649-7446521d5a8e",
   "metadata": {},
   "outputs": [],
   "source": [
    "### x = 5\n",
    "### y = 10\n",
    "### z = x * y\n",
    "### print(z)  == 50"
   ]
  },
  {
   "cell_type": "code",
   "execution_count": 23,
   "id": "3c70ad76-289c-47f8-b97b-82b97c7ff1b7",
   "metadata": {},
   "outputs": [],
   "source": [
    "### x = (3*4)+5\n",
    "### print(x)"
   ]
  },
  {
   "cell_type": "markdown",
   "id": "4e14f2b1-0960-46d7-a409-7b1709719530",
   "metadata": {},
   "source": [
    "![Screenshot6](Capturar6.PNG)"
   ]
  },
  {
   "cell_type": "markdown",
   "id": "618f93d2-2c55-4266-895e-5e652b284ca3",
   "metadata": {},
   "source": [
    "# Create a code cell to convert minutes to hours"
   ]
  },
  {
   "cell_type": "code",
   "execution_count": 24,
   "id": "4ee96325-29d6-40d8-94dd-3014ce6a09f7",
   "metadata": {},
   "outputs": [
    {
     "name": "stdout",
     "output_type": "stream",
     "text": [
      "3.3333333333333335\n"
     ]
    }
   ],
   "source": [
    "minutes = 200\n",
    "\n",
    "hours = minutes / 60\n",
    "print(hours)\n",
    "\n"
   ]
  },
  {
   "cell_type": "markdown",
   "id": "d0921767-ce69-47d6-addf-8077a04f0528",
   "metadata": {},
   "source": [
    "### The code defines minutes as 200.\n",
    "### It then converts the minutes to hours by dividing by 60 (minutes / 60), because 1 hour has 60 minutes.\n",
    "### The result (which will be 3.333... hours) is printed using print(hours)."
   ]
  },
  {
   "cell_type": "markdown",
   "id": "cf9ff436-1b28-45ac-9395-366c7906ec72",
   "metadata": {},
   "source": [
    "![Screenshot7](Capturar7.PNG)"
   ]
  },
  {
   "cell_type": "markdown",
   "id": "e21331c2-c778-4f8b-9d93-5de5cfe6232f",
   "metadata": {},
   "source": [
    "# Objectives"
   ]
  },
  {
   "cell_type": "markdown",
   "id": "2c27252d-1412-4fa2-a65d-0f805961fb48",
   "metadata": {},
   "source": [
    "1: Code and Data Analysis\n",
    "2: Markdown for Applications and Annotations\n",
    "3: Data Visualization"
   ]
  },
  {
   "cell_type": "markdown",
   "id": "872461ba-6b67-47e5-b9fa-0535de58db58",
   "metadata": {},
   "source": [
    "![Screenshot8](Capturar8.PNG)"
   ]
  },
  {
   "cell_type": "markdown",
   "id": "4253b1a9-0fb1-47d8-8730-62067a674619",
   "metadata": {},
   "source": [
    "## AUTHOR: JOÃO VICTOR ARAUJO DE SOUZA"
   ]
  },
  {
   "cell_type": "markdown",
   "id": "d6498f81-4120-487b-b712-55dd425123f7",
   "metadata": {},
   "source": [
    "![Screenshot9](Capturar9.PNG)"
   ]
  },
  {
   "cell_type": "code",
   "execution_count": null,
   "id": "6ff87c81-996a-4610-9d59-194aa7c98c42",
   "metadata": {},
   "outputs": [],
   "source": []
  }
 ],
 "metadata": {
  "kernelspec": {
   "display_name": "Python 3 (ipykernel)",
   "language": "python",
   "name": "python3"
  },
  "language_info": {
   "codemirror_mode": {
    "name": "ipython",
    "version": 3
   },
   "file_extension": ".py",
   "mimetype": "text/x-python",
   "name": "python",
   "nbconvert_exporter": "python",
   "pygments_lexer": "ipython3",
   "version": "3.12.3"
  },
  "panel-cell-order": [
   "1c150287-20c3-48cb-bbfa-ba7e1011802c",
   "993dc5f2-1868-4ca6-b745-6fcff0274f4d",
   "18290eb6-d31c-4e91-88c5-dca92ca3bcb0",
   "7e5f06b7-a8e2-4ab7-b74e-db6b57c5299a",
   "e7e9eb0b-c5eb-4313-aa36-cb54754135b5",
   "59a0753f-26a8-4eb7-9428-0afdafef0099",
   "215e3d09-542a-420c-93a4-1948b232ac5a"
  ]
 },
 "nbformat": 4,
 "nbformat_minor": 5
}
